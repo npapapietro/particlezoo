{
 "cells": [
  {
   "cell_type": "code",
   "execution_count": 10,
   "metadata": {},
   "outputs": [],
   "source": [
    "from dataclasses import dataclass\n",
    "from typing import Union\n",
    "\n",
    "@dataclass\n",
    "class GraphObject:\n",
    "    name: str\n",
    "\n",
    "@dataclass\n",
    "class In(GraphObject):\n",
    "    out_line: \"Line\"\n",
    "\n",
    "@dataclass\n",
    "class Out(GraphObject):\n",
    "    in_line: \"Line\"\n",
    "\n",
    "@dataclass\n",
    "class Node(GraphObject):\n",
    "    out_lines: list[\"Line\"]\n",
    "    in_lines: list[\"Line\"]\n",
    "\n",
    "@dataclass\n",
    "class Line(GraphObject):\n",
    "    start: Union[In, Out, Node]\n",
    "    end: Union[In, Out, Node]"
   ]
  },
  {
   "cell_type": "code",
   "execution_count": 18,
   "metadata": {},
   "outputs": [],
   "source": [
    "o1 = Out(\"o1\",None)\n",
    "\n",
    "l4 = Line(\"l4\", None, o1)\n",
    "o1.in_line = l4\n",
    "\n",
    "n2 = Node(\"n2\", [l4], [])\n",
    "l4.start = n2\n",
    "\n",
    "l2 = Line(\"l2\", None, n2)\n",
    "n2.in_lines.append(l2)\n",
    "\n",
    "l3 = Line(\"l3\", None, n2)\n",
    "n2.in_lines += [l2,l3]\n",
    "\n",
    "n1 = Node(\"n1\", [], [l2,l3])\n",
    "l3.start=n1\n",
    "l2.start=n1\n",
    "\n",
    "l1 = Line(\"l1\", None, n1)\n",
    "n1.in_lines.append(l1)\n",
    "\n",
    "i1 = In(\"i1\", l1)"
   ]
  },
  {
   "cell_type": "code",
   "execution_count": null,
   "metadata": {},
   "outputs": [],
   "source": []
  }
 ],
 "metadata": {
  "interpreter": {
   "hash": "6367c2bc8ca8316d5d9db7d33fcf68f1223e505b8ef4f47e9ae950d2574ff5b0"
  },
  "kernelspec": {
   "display_name": "Python 3.9.4 64-bit ('zoo': conda)",
   "name": "python3"
  },
  "language_info": {
   "codemirror_mode": {
    "name": "ipython",
    "version": 3
   },
   "file_extension": ".py",
   "mimetype": "text/x-python",
   "name": "python",
   "nbconvert_exporter": "python",
   "pygments_lexer": "ipython3",
   "version": "3.9.4"
  },
  "orig_nbformat": 4
 },
 "nbformat": 4,
 "nbformat_minor": 2
}
