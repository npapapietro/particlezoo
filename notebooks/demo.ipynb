{
 "metadata": {
  "language_info": {
   "codemirror_mode": {
    "name": "ipython",
    "version": 3
   },
   "file_extension": ".py",
   "mimetype": "text/x-python",
   "name": "python",
   "nbconvert_exporter": "python",
   "pygments_lexer": "ipython3",
   "version": "3.9.4"
  },
  "orig_nbformat": 2,
  "kernelspec": {
   "name": "python394jvsc74a57bd06367c2bc8ca8316d5d9db7d33fcf68f1223e505b8ef4f47e9ae950d2574ff5b0",
   "display_name": "Python 3.9.4 64-bit ('zoo': conda)"
  }
 },
 "nbformat": 4,
 "nbformat_minor": 2,
 "cells": [
  {
   "cell_type": "code",
   "execution_count": 1,
   "metadata": {},
   "outputs": [],
   "source": [
    "%load_ext autoreload\n",
    "%autoreload 2\n",
    "\n",
    "import os\n",
    "os.chdir(\"..\")"
   ]
  },
  {
   "cell_type": "code",
   "execution_count": 2,
   "metadata": {},
   "outputs": [],
   "source": [
    "from particlezoo import TemplateParser\n",
    "\n",
    "tp = TemplateParser(\"standard.json\")"
   ]
  },
  {
   "cell_type": "code",
   "execution_count": 3,
   "metadata": {},
   "outputs": [],
   "source": [
    "model = {\n",
    "        \"name\": \"Standard Model\",\n",
    "        \"gauges\": [\n",
    "            {\n",
    "                \"name\": \"U(1)_Y\",\n",
    "                \"group_type\": \"abelian\",\n",
    "                \"coupling\": \"g_Y\"\n",
    "            },\n",
    "            {\n",
    "                \"name\": \"SU(2)_L\",\n",
    "                \"group_type\": [\"SU\", \"2\"],\n",
    "                \"coupling\": \"g_L\"\n",
    "            },\n",
    "            {\n",
    "                \"name\": \"SU(2)_R\",\n",
    "                \"group_type\": [\"SU\", \"2\"],\n",
    "                \"coupling\": \"g_R\"\n",
    "            }\n",
    "        ],\n",
    "        \"fields\": [\n",
    "            {\n",
    "                \"name\": \"L\",\n",
    "                \"description\": \"Left handed lepton\",\n",
    "                \"spin\": \"1/2\",\n",
    "                \"mass\": \"m_L\",\n",
    "                \"representations\": [\n",
    "                    {\"name\": \"U(1)_Y\", \"charge\": \"1/6\"},\n",
    "                    {\"name\": \"SU(2)_L\", \"charge\": \"2\", },\n",
    "                    {\"name\": \"SU(2)_R\", \"representation\": [2]}\n",
    "                ]\n",
    "            }\n",
    "        ]\n",
    "    }\n",
    "\n",
    "t = TemplateParser()\n",
    "t.template = model\n",
    "\n",
    "result = t.parse().build()"
   ]
  },
  {
   "cell_type": "code",
   "execution_count": 7,
   "metadata": {
    "tags": []
   },
   "outputs": [
    {
     "output_type": "execute_result",
     "data": {
      "text/plain": [
       "{'name': 'Standard Model', 'fields': [{'name': L, 'spin': 1/2, 'mass': <particlezoo.modeltemplates._models.NumericSymbol object at 0x7f5652057100>, 'representations': {'U(1)_Y': {'charge': '1/6', 'representation': 1/6}, 'SU(2)_L': {'charge': '2', 'representation': Matrix([[1]])}, 'SU(2)_R': {'representation': Matrix([[2]]), 'charge': 3}}}], 'gauges': [{'name': U(1)_Y, 'coupling': g_Y}, {'name': SU(2)_L, 'coupling': g_L}, {'name': SU(2)_R, 'coupling': g_R}]}"
      ]
     },
     "metadata": {},
     "execution_count": 7
    }
   ],
   "source": [
    "result"
   ]
  },
  {
   "cell_type": "code",
   "execution_count": 1,
   "metadata": {},
   "outputs": [],
   "source": [
    "from liesym import D\n",
    "from sympy import *"
   ]
  },
  {
   "cell_type": "code",
   "execution_count": 9,
   "metadata": {},
   "outputs": [
    {
     "output_type": "execute_result",
     "data": {
      "text/plain": [
       "[(Matrix([[1, 0, 0, 0, 0]]), 10)]"
      ]
     },
     "metadata": {},
     "execution_count": 9
    }
   ],
   "source": [
    "a = D(5)\n",
    "a.get_irrep_by_dim(10, max_dd=5, with_symbols=True)"
   ]
  },
  {
   "cell_type": "code",
   "execution_count": 10,
   "metadata": {},
   "outputs": [
    {
     "output_type": "execute_result",
     "data": {
      "text/plain": [
       "[Matrix([[0, 0, 0, 0, 0]]),\n",
       " Matrix([[0, 1, 0, 0, 0]]),\n",
       " Matrix([[2, 0, 0, 0, 0]])]"
      ]
     },
     "metadata": {},
     "execution_count": 10
    }
   ],
   "source": [
    "a.tensor_product_decomposition([Matrix([[1, 0, 0, 0, 0]]),Matrix([[1, 0, 0, 0, 0]])])"
   ]
  },
  {
   "cell_type": "code",
   "execution_count": null,
   "metadata": {},
   "outputs": [],
   "source": []
  }
 ]
}