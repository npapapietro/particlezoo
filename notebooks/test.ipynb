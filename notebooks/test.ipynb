{
 "cells": [
  {
   "cell_type": "code",
   "execution_count": 20,
   "source": [
    "from typing import NamedTuple, Optional, Any\n",
    "\n",
    "class Test(NamedTuple):\n",
    "    name: str\n",
    "    year: Optional[int]\n",
    "\n",
    "Test(name=\"adsa\", year=123)"
   ],
   "outputs": [
    {
     "output_type": "execute_result",
     "data": {
      "text/plain": [
       "Test(name='adsa', year=123)"
      ]
     },
     "metadata": {},
     "execution_count": 20
    }
   ],
   "metadata": {}
  },
  {
   "cell_type": "code",
   "execution_count": null,
   "source": [],
   "outputs": [],
   "metadata": {}
  }
 ],
 "metadata": {
  "orig_nbformat": 4,
  "language_info": {
   "name": "python",
   "version": "3.9.4",
   "mimetype": "text/x-python",
   "codemirror_mode": {
    "name": "ipython",
    "version": 3
   },
   "pygments_lexer": "ipython3",
   "nbconvert_exporter": "python",
   "file_extension": ".py"
  },
  "kernelspec": {
   "name": "python3",
   "display_name": "Python 3.9.4 64-bit ('zoo': conda)"
  },
  "interpreter": {
   "hash": "6367c2bc8ca8316d5d9db7d33fcf68f1223e505b8ef4f47e9ae950d2574ff5b0"
  }
 },
 "nbformat": 4,
 "nbformat_minor": 2
}