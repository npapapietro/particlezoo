{
 "cells": [
  {
   "cell_type": "code",
   "execution_count": 2,
   "metadata": {},
   "outputs": [],
   "source": [
    "%load_ext autoreload\n",
    "%autoreload 2\n",
    "\n",
    "import os\n",
    "os.chdir(\"..\")"
   ]
  },
  {
   "cell_type": "code",
   "execution_count": 8,
   "metadata": {},
   "outputs": [],
   "source": [
    "import particlezoo as zoo\n",
    "import liesym as ls"
   ]
  },
  {
   "cell_type": "code",
   "execution_count": 9,
   "metadata": {},
   "outputs": [
    {
     "data": {
      "text/latex": [
       "$\\displaystyle \\overline{\\psi}$"
      ],
      "text/plain": [
       "conjugate(psi)"
      ]
     },
     "execution_count": 9,
     "metadata": {},
     "output_type": "execute_result"
    }
   ],
   "source": [
    "p = zoo.Field(\"psi\", \"1/2\", {\"U(1)_x\": \"q\"})\n",
    "p.conjugate_name"
   ]
  },
  {
   "cell_type": "code",
   "execution_count": 10,
   "metadata": {},
   "outputs": [
    {
     "data": {
      "text/latex": [
       "$\\displaystyle U(1)_{x}$"
      ],
      "text/plain": [
       "Symmetry(U(1)_x)"
      ]
     },
     "execution_count": 10,
     "metadata": {},
     "output_type": "execute_result"
    }
   ],
   "source": [
    "s = zoo.Symmetry(\"U(1)_x\", ls.U1(), True, \"g\", tag=\"x\")\n",
    "s"
   ]
  },
  {
   "cell_type": "code",
   "execution_count": 11,
   "metadata": {},
   "outputs": [],
   "source": [
    "l = zoo.Lagrangian([p], [s], \"test\")"
   ]
  },
  {
   "cell_type": "code",
   "execution_count": 12,
   "metadata": {},
   "outputs": [
    {
     "data": {
      "text/latex": [
       "$\\displaystyle U(1)_{x}$"
      ],
      "text/plain": [
       "Symmetry(U(1)_x)"
      ]
     },
     "execution_count": 12,
     "metadata": {},
     "output_type": "execute_result"
    }
   ],
   "source": [
    "l._get_sym(\"U(1)_x\")"
   ]
  },
  {
   "cell_type": "code",
   "execution_count": 41,
   "metadata": {},
   "outputs": [],
   "source": [
    "from particlezoo import Field, Symmetry\n",
    "from tikzfeynwrap import TikzFeynWrap\n",
    "from typing import NamedTuple\n",
    "from sympy import latex"
   ]
  },
  {
   "cell_type": "code",
   "execution_count": 42,
   "metadata": {},
   "outputs": [
    {
     "name": "stdout",
     "output_type": "stream",
     "text": [
      "Node2(name='\\\\psi', connectedTo=[(Node2(name=None, connectedTo=[(Node2(name='\\\\mathtt{\\\\text{A\\\\_x}}', connectedTo=None, key='a0'), 'fermion', 'a2'), (Node2(name='\\\\overline{\\\\psi}', connectedTo=None, key='a1'), 'photon', 'a3')], key='a4'), 'fermion', 'a5')], key='a6')\n"
     ]
    },
    {
     "data": {
      "text/plain": [
       "[['a6 [particle=\\\\(\\\\psi\\\\)]',\n",
       "  '-- [fermion]',\n",
       "  'a4',\n",
       "  '-- [fermion]',\n",
       "  'a0 [particle=\\\\(\\\\mathtt{\\\\text{A\\\\_x}}\\\\)]'],\n",
       " ['a6 [particle=\\\\(\\\\psi\\\\)]',\n",
       "  '-- [fermion]',\n",
       "  'a4',\n",
       "  '-- [fermion]',\n",
       "  '-- [photon]',\n",
       "  'a1 [particle=\\\\(\\\\overline{\\\\psi}\\\\)]']]"
      ]
     },
     "execution_count": 42,
     "metadata": {},
     "output_type": "execute_result"
    }
   ],
   "source": [
    "def id_gen():\n",
    "    import string\n",
    "    i = -1\n",
    "    def _get_id():\n",
    "        nonlocal i\n",
    "        i += 1\n",
    "        return \"a\" + str(i)\n",
    "    return _get_id\n",
    "\n",
    "\n",
    "class Node2(NamedTuple):\n",
    "    name: str\n",
    "    connectedTo: list[tuple]\n",
    "    key: str\n",
    "\n",
    "class Diagram(NamedTuple):\n",
    "    heads: list[Node2]\n",
    "    horizontal: tuple\n",
    "\n",
    "allowed = [\n",
    "            \"charged scalar\",\n",
    "            \"scalar\",\n",
    "            \"majorana\",\n",
    "            \"anti majorana\",\n",
    "            \"gluon\",\n",
    "            \"photon\",\n",
    "            \"ghost\",\n",
    "            \"charged boson\",\n",
    "            \"fermion\"\n",
    "        ]\n",
    "\n",
    "def _create_vertex(key, name=None):\n",
    "    if name:\n",
    "        return f\"{key} [particle=\\({name}\\)]\"\n",
    "    return key\n",
    "\n",
    "def _create_line(key, line_type=None):\n",
    "    if line_type:\n",
    "        if line_type in allowed:\n",
    "            return f\"-- [{line_type}]\"\n",
    "        else:\n",
    "            raise ValueError(f\"Bad tikz-feynman option: {line_type}\")\n",
    "    return f\"--\"\n",
    "\n",
    "\n",
    "def fermion_kinetic_energy(field: Field, sym: Symmetry):\n",
    "    id_ = id_gen()\n",
    "\n",
    "    fname = latex(field.name)\n",
    "    fname_conj = latex(field.conjugate_name)\n",
    "    gauge_boson = latex(sym.gauge_name)\n",
    "\n",
    "\n",
    "    gbout = Node2(gauge_boson, None, id_())\n",
    "    conjout = Node2(fname_conj, None, id_())\n",
    "    interaction = Node2(None,[\n",
    "        (gbout, 'fermion', id_()),\n",
    "        (conjout, 'photon', id_())\n",
    "    ], id_())\n",
    "    pin = Node2(fname, [(interaction, 'fermion', id_())], id_())\n",
    "    # return Diagram([pin], (interaction, gbout))\n",
    "    return pin\n",
    "\n",
    "ex = fermion_kinetic_energy(p, s)   \n",
    "\n",
    "print(ex)\n",
    "\n",
    "total = []\n",
    "\n",
    "# def parse_path(n: Node2, log: list):\n",
    "import copy\n",
    "\n",
    "def parse_heads(head: Node2, l: list):\n",
    "    vertex = _create_vertex(head.key, head.name)\n",
    "    l.append(vertex)\n",
    "\n",
    "    if head.connectedTo is None:\n",
    "        total.append(copy.deepcopy(l))\n",
    "        l.clear()\n",
    "        return\n",
    "\n",
    "    for node, name, key in head.connectedTo:\n",
    "        path = _create_line(key, name)\n",
    "        l.append(path)\n",
    "        parse_heads(node, copy.deepcopy(l))\n",
    "\n",
    "l = []\n",
    "parse_heads(ex, l)\n",
    "total\n"
   ]
  },
  {
   "cell_type": "code",
   "execution_count": 4,
   "metadata": {},
   "outputs": [],
   "source": [
    "# wrapper = TikzFeynWrap().startup()"
   ]
  },
  {
   "cell_type": "code",
   "execution_count": 43,
   "metadata": {},
   "outputs": [
    {
     "name": "stdout",
     "output_type": "stream",
     "text": [
      "\\feynmandiagram [horizontal=a6 to a0] {\n",
      "        a6 [particle=\\(\\psi\\)] -- [fermion] a4 -- [fermion] a0 [particle=\\(\\mathtt{\\text{A\\_x}}\\)]\n",
      "        };\n"
     ]
    },
    {
     "data": {
      "image/svg+xml": "<svg xmlns=\"http://www.w3.org/2000/svg\" xmlns:xlink=\"http://www.w3.org/1999/xlink\" width=\"343.711pt\" height=\"0pt\" viewBox=\"0 0 343.711 0\" version=\"1.1\">\n<g id=\"surface1\">\n</g>\n</svg>",
      "text/plain": [
       "<IPython.core.display.SVG object>"
      ]
     },
     "metadata": {},
     "output_type": "display_data"
    }
   ],
   "source": [
    "def dec(x):\n",
    "    return f\"\"\"\\\\feynmandiagram [horizontal=a6 to a0] {{\n",
    "        {x}\n",
    "        }};\"\"\"\n",
    "\n",
    "t = dec(\" \".join(total[0]))\n",
    "print(t)\n",
    "x = wrapper(t, return_path=True)"
   ]
  },
  {
   "cell_type": "code",
   "execution_count": 52,
   "metadata": {},
   "outputs": [
    {
     "data": {
      "image/svg+xml": "<svg xmlns=\"http://www.w3.org/2000/svg\" xmlns:xlink=\"http://www.w3.org/1999/xlink\" width=\"343.711pt\" height=\"0pt\" viewBox=\"0 0 343.711 0\" version=\"1.1\">\n<g id=\"surface1\">\n</g>\n</svg>",
      "text/plain": [
       "<IPython.core.display.SVG object>"
      ]
     },
     "metadata": {},
     "output_type": "display_data"
    }
   ],
   "source": [
    "a,r = wrapper(r\"\"\"\n",
    "\\feynmandiagram [horizontal=a to b] {\n",
    "        i1 [particle=\\(e^{-}\\)] -- [fermion] a -- [fermion] i2 [particle=\\(e^{+}\\)],\n",
    "        a -- [photon, edge label=\\(\\gamma\\), momentum'=\\(k\\)] b,\n",
    "        f1 [particle=\\(\\mu^{+}\\)] -- [fermion] b -- [fermion] f2 [particle=\\(\\mu^{-}\\)],\n",
    "\n",
    "        };\n",
    "\"\"\", return_path=True, return_output=True)"
   ]
  },
  {
   "cell_type": "code",
   "execution_count": 50,
   "metadata": {},
   "outputs": [
    {
     "data": {
      "image/svg+xml": "<svg xmlns=\"http://www.w3.org/2000/svg\" xmlns:xlink=\"http://www.w3.org/1999/xlink\" width=\"343.711pt\" height=\"0pt\" viewBox=\"0 0 343.711 0\" version=\"1.1\">\n<g id=\"surface1\">\n</g>\n</svg>",
      "text/plain": [
       "<IPython.core.display.SVG object>"
      ]
     },
     "metadata": {},
     "output_type": "display_data"
    }
   ],
   "source": [
    "from IPython.display import SVG, display\n",
    "\n",
    "display(SVG(a))"
   ]
  },
  {
   "cell_type": "code",
   "execution_count": 56,
   "metadata": {},
   "outputs": [
    {
     "name": "stdout",
     "output_type": "stream",
     "text": [
      "ExecResult(exit_code=0, output=b'This is LuaHBTeX, Version 1.13.2 (TeX Live 2021) \\n restricted system commands enabled.\\n(./output.tex\\nLaTeX2e <2021-06-01> patch level 1\\n L3 programming layer <2021-08-27>\\n(/usr/local/texlive/2021/texmf-dist/tex/latex/standalone/standalone.cls\\nDocument Class: standalone 2018/03/26 v1.3a Class to compile TeX sub-files stan\\ndalone\\n(/usr/local/texlive/2021/texmf-dist/tex/latex/tools/shellesc.sty)\\n(/usr/local/texlive/2021/texmf-dist/tex/generic/iftex/ifluatex.sty\\n(/usr/local/texlive/2021/texmf-dist/tex/generic/iftex/iftex.sty))\\n(/usr/local/texlive/2021/texmf-dist/tex/latex/xkeyval/xkeyval.sty\\n(/usr/local/texlive/2021/texmf-dist/tex/generic/xkeyval/xkeyval.tex\\n(/usr/local/texlive/2021/texmf-dist/tex/generic/xkeyval/xkvutils.tex\\n(/usr/local/texlive/2021/texmf-dist/tex/generic/xkeyval/keyval.tex))))\\n(/usr/local/texlive/2021/texmf-dist/tex/latex/standalone/standalone.cfg)\\n(/usr/local/texlive/2021/texmf-dist/tex/latex/base/article.cls\\nDocument Class: article 2021/02/12 v1.4n Standard LaTeX document class\\n(/usr/local/texlive/2021/texmf-dist/tex/latex/base/size10.clo))\\n(/usr/local/texlive/2021/texmf-dist/tex/generic/luatex85/luatex85.sty)\\n(/usr/local/texlive/2021/texmf-dist/tex/generic/pdftexcmds/pdftexcmds.sty\\n(/usr/local/texlive/2021/texmf-dist/tex/generic/infwarerr/infwarerr.sty)\\n(/usr/local/texlive/2021/texmf-dist/tex/generic/ltxcmds/ltxcmds.sty))\\n(/usr/local/texlive/2021/texmf-dist/tex/latex/pgf/frontendlayer/tikz.sty\\n(/usr/local/texlive/2021/texmf-dist/tex/latex/pgf/basiclayer/pgf.sty\\n(/usr/local/texlive/2021/texmf-dist/tex/latex/pgf/utilities/pgfrcs.sty\\n(/usr/local/texlive/2021/texmf-dist/tex/generic/pgf/utilities/pgfutil-common.te\\nx\\n(/usr/local/texlive/2021/texmf-dist/tex/generic/pgf/utilities/pgfutil-common-li\\nsts.tex))\\n(/usr/local/texlive/2021/texmf-dist/tex/generic/pgf/utilities/pgfutil-latex.def\\n) (/usr/local/texlive/2021/texmf-dist/tex/generic/pgf/utilities/pgfrcs.code.tex\\n(/usr/local/texlive/2021/texmf-dist/tex/generic/pgf/pgf.revision.tex)))\\n(/usr/local/texlive/2021/texmf-dist/tex/latex/pgf/basiclayer/pgfcore.sty\\n(/usr/local/texlive/2021/texmf-dist/tex/latex/graphics/graphicx.sty\\n(/usr/local/texlive/2021/texmf-dist/tex/latex/graphics/graphics.sty\\n(/usr/local/texlive/2021/texmf-dist/tex/latex/graphics/trig.sty)\\n(/usr/local/texlive/2021/texmf-dist/tex/latex/graphics-cfg/graphics.cfg)\\n(/usr/local/texlive/2021/texmf-dist/tex/latex/graphics-def/luatex.def)))\\n(/usr/local/texlive/2021/texmf-dist/tex/latex/pgf/systemlayer/pgfsys.sty\\n(/usr/local/texlive/2021/texmf-dist/tex/generic/pgf/systemlayer/pgfsys.code.tex\\n(/usr/local/texlive/2021/texmf-dist/tex/generic/pgf/utilities/pgfkeys.code.tex\\n(/usr/local/texlive/2021/texmf-dist/tex/generic/pgf/utilities/pgfkeysfiltered.c\\node.tex))\\n(/usr/local/texlive/2021/texmf-dist/tex/generic/pgf/systemlayer/pgf.cfg)\\n(/usr/local/texlive/2021/texmf-dist/tex/generic/pgf/systemlayer/pgfsys-luatex.d\\nef\\n(/usr/local/texlive/2021/texmf-dist/tex/generic/pgf/systemlayer/pgfsys-common-p\\ndf.def)))\\n(/usr/local/texlive/2021/texmf-dist/tex/generic/pgf/systemlayer/pgfsyssoftpath.\\ncode.tex)\\n(/usr/local/texlive/2021/texmf-dist/tex/generic/pgf/systemlayer/pgfsysprotocol.\\ncode.tex)) (/usr/local/texlive/2021/texmf-dist/tex/latex/xcolor/xcolor.sty\\n(/usr/local/texlive/2021/texmf-dist/tex/latex/graphics-cfg/color.cfg))\\n(/usr/local/texlive/2021/texmf-dist/tex/generic/pgf/basiclayer/pgfcore.code.tex\\n(/usr/local/texlive/2021/texmf-dist/tex/generic/pgf/math/pgfmath.code.tex\\n(/usr/local/texlive/2021/texmf-dist/tex/generic/pgf/math/pgfmathcalc.code.tex\\n(/usr/local/texlive/2021/texmf-dist/tex/generic/pgf/math/pgfmathutil.code.tex)\\n(/usr/local/texlive/2021/texmf-dist/tex/generic/pgf/math/pgfmathparser.code.tex\\n)\\n(/usr/local/texlive/2021/texmf-dist/tex/generic/pgf/math/pgfmathfunctions.code.\\ntex\\n(/usr/local/texlive/2021/texmf-dist/tex/generic/pgf/math/pgfmathfunctions.basic\\n.code.tex)\\n(/usr/local/texlive/2021/texmf-dist/tex/generic/pgf/math/pgfmathfunctions.trigo\\nnometric.code.tex)\\n(/usr/local/texlive/2021/texmf-dist/tex/generic/pgf/math/pgfmathfunctions.rando\\nm.code.tex)\\n(/usr/local/texlive/2021/texmf-dist/tex/generic/pgf/math/pgfmathfunctions.compa\\nrison.code.tex)\\n(/usr/local/texlive/2021/texmf-dist/tex/generic/pgf/math/pgfmathfunctions.base.\\ncode.tex)\\n(/usr/local/texlive/2021/texmf-dist/tex/generic/pgf/math/pgfmathfunctions.round\\n.code.tex)\\n(/usr/local/texlive/2021/texmf-dist/tex/generic/pgf/math/pgfmathfunctions.misc.\\ncode.tex)\\n(/usr/local/texlive/2021/texmf-dist/tex/generic/pgf/math/pgfmathfunctions.integ\\nerarithmetics.code.tex)))\\n(/usr/local/texlive/2021/texmf-dist/tex/generic/pgf/math/pgfmathfloat.code.tex)\\n) (/usr/local/texlive/2021/texmf-dist/tex/generic/pgf/math/pgfint.code.tex)\\n(/usr/local/texlive/2021/texmf-dist/tex/generic/pgf/basiclayer/pgfcorepoints.co\\nde.tex)\\n(/usr/local/texlive/2021/texmf-dist/tex/generic/pgf/basiclayer/pgfcorepathconst\\nruct.code.tex)\\n(/usr/local/texlive/2021/texmf-dist/tex/generic/pgf/basiclayer/pgfcorepathusage\\n.code.tex)\\n(/usr/local/texlive/2021/texmf-dist/tex/generic/pgf/basiclayer/pgfcorescopes.co\\nde.tex)\\n(/usr/local/texlive/2021/texmf-dist/tex/generic/pgf/basiclayer/pgfcoregraphicst\\nate.code.tex)\\n(/usr/local/texlive/2021/texmf-dist/tex/generic/pgf/basiclayer/pgfcoretransform\\nations.code.tex)\\n(/usr/local/texlive/2021/texmf-dist/tex/generic/pgf/basiclayer/pgfcorequick.cod\\ne.tex)\\n(/usr/local/texlive/2021/texmf-dist/tex/generic/pgf/basiclayer/pgfcoreobjects.c\\node.tex)\\n(/usr/local/texlive/2021/texmf-dist/tex/generic/pgf/basiclayer/pgfcorepathproce\\nssing.code.tex)\\n(/usr/local/texlive/2021/texmf-dist/tex/generic/pgf/basiclayer/pgfcorearrows.co\\nde.tex)\\n(/usr/local/texlive/2021/texmf-dist/tex/generic/pgf/basiclayer/pgfcoreshade.cod\\ne.tex)\\n(/usr/local/texlive/2021/texmf-dist/tex/generic/pgf/basiclayer/pgfcoreimage.cod\\ne.tex\\n(/usr/local/texlive/2021/texmf-dist/tex/generic/pgf/basiclayer/pgfcoreexternal.\\ncode.tex))\\n(/usr/local/texlive/2021/texmf-dist/tex/generic/pgf/basiclayer/pgfcorelayers.co\\nde.tex)\\n(/usr/local/texlive/2021/texmf-dist/tex/generic/pgf/basiclayer/pgfcoretranspare\\nncy.code.tex)\\n(/usr/local/texlive/2021/texmf-dist/tex/generic/pgf/basiclayer/pgfcorepatterns.\\ncode.tex)\\n(/usr/local/texlive/2021/texmf-dist/tex/generic/pgf/basiclayer/pgfcorerdf.code.\\ntex)))\\n(/usr/local/texlive/2021/texmf-dist/tex/generic/pgf/modules/pgfmoduleshapes.cod\\ne.tex)\\n(/usr/local/texlive/2021/texmf-dist/tex/generic/pgf/modules/pgfmoduleplot.code.\\ntex)\\n(/usr/local/texlive/2021/texmf-dist/tex/latex/pgf/compatibility/pgfcomp-version\\n-0-65.sty)\\n(/usr/local/texlive/2021/texmf-dist/tex/latex/pgf/compatibility/pgfcomp-version\\n-1-18.sty))\\n(/usr/local/texlive/2021/texmf-dist/tex/latex/pgf/utilities/pgffor.sty\\n(/usr/local/texlive/2021/texmf-dist/tex/latex/pgf/utilities/pgfkeys.sty\\n(/usr/local/texlive/2021/texmf-dist/tex/generic/pgf/utilities/pgfkeys.code.tex)\\n) (/usr/local/texlive/2021/texmf-dist/tex/latex/pgf/math/pgfmath.sty\\n(/usr/local/texlive/2021/texmf-dist/tex/generic/pgf/math/pgfmath.code.tex))\\n(/usr/local/texlive/2021/texmf-dist/tex/generic/pgf/utilities/pgffor.code.tex\\n(/usr/local/texlive/2021/texmf-dist/tex/generic/pgf/math/pgfmath.code.tex)))\\n(/usr/local/texlive/2021/texmf-dist/tex/generic/pgf/frontendlayer/tikz/tikz.cod\\ne.tex\\n(/usr/local/texlive/2021/texmf-dist/tex/generic/pgf/libraries/pgflibraryplothan\\ndlers.code.tex)\\n(/usr/local/texlive/2021/texmf-dist/tex/generic/pgf/modules/pgfmodulematrix.cod\\ne.tex)\\n(/usr/local/texlive/2021/texmf-dist/tex/generic/pgf/frontendlayer/tikz/librarie\\ns/tikzlibrarytopaths.code.tex))))\\n(/usr/local/texlive/2021/texmf-dist/tex/latex/tikz-feynman/tikz-feynman.sty\\n(/usr/local/texlive/2021/texmf-dist/tex/latex/pgfopts/pgfopts.sty)\\n(/usr/local/texlive/2021/texmf-dist/tex/latex/tikz-feynman/tikzlibraryfeynman.c\\node.tex\\n(/usr/local/texlive/2021/texmf-dist/tex/generic/pgf/libraries/pgflibraryarrows.\\nmeta.code.tex)\\n(/usr/local/texlive/2021/texmf-dist/tex/generic/pgf/frontendlayer/tikz/librarie\\ns/tikzlibrarycalc.code.tex)\\n(/usr/local/texlive/2021/texmf-dist/tex/generic/pgf/frontendlayer/tikz/librarie\\ns/tikzlibrarydecorations.code.tex\\n(/usr/local/texlive/2021/texmf-dist/tex/generic/pgf/modules/pgfmoduledecoration\\ns.code.tex))\\n(/usr/local/texlive/2021/texmf-dist/tex/generic/pgf/frontendlayer/tikz/librarie\\ns/tikzlibrarydecorations.markings.code.tex\\n(/usr/local/texlive/2021/texmf-dist/tex/generic/pgf/libraries/decorations/pgfli\\nbrarydecorations.markings.code.tex))\\n(/usr/local/texlive/2021/texmf-dist/tex/generic/pgf/frontendlayer/tikz/librarie\\ns/tikzlibrarydecorations.pathmorphing.code.tex\\n(/usr/local/texlive/2021/texmf-dist/tex/generic/pgf/libraries/decorations/pgfli\\nbrarydecorations.pathmorphing.code.tex))\\n(/usr/local/texlive/2021/texmf-dist/tex/generic/pgf/frontendlayer/tikz/librarie\\ns/tikzlibrarydecorations.pathreplacing.code.tex\\n(/usr/local/texlive/2021/texmf-dist/tex/generic/pgf/libraries/decorations/pgfli\\nbrarydecorations.pathreplacing.code.tex))\\n(/usr/local/texlive/2021/texmf-dist/tex/generic/pgf/frontendlayer/tikz/librarie\\ns/graphs/tikzlibrarygraphs.code.tex)\\n(/usr/local/texlive/2021/texmf-dist/tex/generic/pgf/frontendlayer/tikz/librarie\\ns/tikzlibrarypatterns.code.tex\\n(/usr/local/texlive/2021/texmf-dist/tex/generic/pgf/libraries/pgflibrarypattern\\ns.code.tex))\\n(/usr/local/texlive/2021/texmf-dist/tex/generic/pgf/frontendlayer/tikz/librarie\\ns/tikzlibrarypositioning.code.tex)\\n(/usr/local/texlive/2021/texmf-dist/tex/generic/pgf/frontendlayer/tikz/librarie\\ns/tikzlibraryshapes.geometric.code.tex\\n(/usr/local/texlive/2021/texmf-dist/tex/generic/pgf/libraries/shapes/pgflibrary\\nshapes.geometric.code.tex))\\n(/usr/local/texlive/2021/texmf-dist/tex/generic/pgf/graphdrawing/tex/tikzlibrar\\nygraphdrawing.code.tex\\n(/usr/local/texlive/2021/texmf-dist/tex/generic/pgf/graphdrawing/tex/pgflibrary\\ngraphdrawing.code.tex))\\n(/usr/local/texlive/2021/texmf-dist/tex/latex/tikz-feynman/tikzfeynman.keys.cod\\ne.tex)))\\n(/usr/local/texlive/2021/texmf-dist/tex/latex/l3backend/l3backend-luatex.def)\\n(./output.aux) (/usr/local/texlive/2021/texmf-dist/tex/latex/base/ts1cmr.fd)\\n(/usr/local/texlive/2021/texmf-dist/tex/context/base/mkii/supp-pdf.mkii\\n[Loading MPS to PDF converter (version 2006.09.02).]\\n) (/usr/local/texlive/2021/texmf-dist/tex/latex/epstopdf-pkg/epstopdf-base.sty\\n(/usr/local/texlive/2021/texmf-dist/tex/latex/latexconfig/epstopdf-sys.cfg))\\n\\nPackage tikz-feynman Warning: Consider loading TikZ-Feynman with \\\\usepackage[co\\nmpat=1.1.0]{tikz-feynman} so that you can be warned if TikZ-Feynman changes. on\\n input line 3.\\n\\n[1] [2{/usr/local/texlive/2021/texmf-var/fonts/map/pdftex/updmap/pdftex.map}]\\n(./output.aux))\\n(see the transcript file for additional information)\\n 413 words of node memory still in use:\\n   3 hlist, 1 vlist, 1 rule, 2 glue, 3 kern, 1 glyph, 5 attribute, 48 glue_spec\\n, 5 attribute_list, 2 write nodes\\n   avail lists: 1:9,2:70,3:25,4:20,5:27,6:2,7:416,8:14,9:42\\n</usr/local/texlive/2021/texmf-dist/fonts/type1/public/amsfonts/cm/cmmi10.pfb><\\n/usr/local/texlive/2021/texmf-dist/fonts/type1/public/amsfonts/cm/cmmi7.pfb></u\\nsr/local/texlive/2021/texmf-dist/fonts/type1/public/amsfonts/cm/cmr10.pfb>\\nOutput written on output.pdf (2 pages, 25543 bytes).\\nTranscript written on output.log.\\n')\n"
     ]
    }
   ],
   "source": [
    "print(str(r))"
   ]
  },
  {
   "cell_type": "markdown",
   "metadata": {},
   "source": []
  }
 ],
 "metadata": {
  "interpreter": {
   "hash": "6367c2bc8ca8316d5d9db7d33fcf68f1223e505b8ef4f47e9ae950d2574ff5b0"
  },
  "kernelspec": {
   "display_name": "Python 3.9.4 64-bit ('zoo': conda)",
   "name": "python3"
  },
  "language_info": {
   "codemirror_mode": {
    "name": "ipython",
    "version": 3
   },
   "file_extension": ".py",
   "mimetype": "text/x-python",
   "name": "python",
   "nbconvert_exporter": "python",
   "pygments_lexer": "ipython3",
   "version": "3.9.4"
  },
  "orig_nbformat": 4
 },
 "nbformat": 4,
 "nbformat_minor": 2
}
