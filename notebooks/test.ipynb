{
 "cells": [
  {
   "cell_type": "code",
   "execution_count": 1,
   "source": [
    "%load_ext autoreload\n",
    "%autoreload 2\n",
    "\n",
    "import os\n",
    "os.chdir(\"..\")\n",
    "\n",
    "    "
   ],
   "outputs": [],
   "metadata": {}
  },
  {
   "cell_type": "code",
   "execution_count": 2,
   "source": [
    "from particlezoo.parsers.consume import consume_config\n",
    "from particlezoo.parsers.transform import transform_model\n"
   ],
   "outputs": [],
   "metadata": {}
  },
  {
   "cell_type": "code",
   "execution_count": 10,
   "source": [
    "fields = [{\n",
    "    \"name\": \"psi\",\n",
    "    \"description\": \"Generic fermion\",\n",
    "    \"representations\": {\n",
    "        \"U(1)_Y\": 1\n",
    "    },\n",
    "    \"spin\": \"1/2\"\n",
    "}]\n",
    "\n",
    "syms = [{\n",
    "    \"description\": \"A gauged U1 group\",\n",
    "    \"name\": \"U(1)_Y\",\n",
    "    \"group\": [\"U\", \"1\"],\n",
    "    \"gauged\": True,\n",
    "    \"tag\": \"Y\",\n",
    "    \"coupling\": \"g_Y\",\n",
    "}]\n",
    "\n",
    "model = {\n",
    "    \"name\": \"ToyModel\",\n",
    "    \"version\": \"v0.0.1\",\n",
    "    \"symmetries\": syms,\n",
    "    \"fields\": fields\n",
    "}\n",
    "\n",
    "model"
   ],
   "outputs": [
    {
     "output_type": "execute_result",
     "data": {
      "text/plain": [
       "{'name': 'ToyModel',\n",
       " 'version': 'v0.0.1',\n",
       " 'symmetries': [{'description': 'A gauged U1 group',\n",
       "   'name': 'U(1)_Y',\n",
       "   'group': ['U', '1'],\n",
       "   'gauged': True,\n",
       "   'tag': 'Y',\n",
       "   'coupling': 'g_Y'}],\n",
       " 'fields': [{'name': 'psi',\n",
       "   'description': 'Generic fermion',\n",
       "   'representations': {'U(1)_Y': 1},\n",
       "   'spin': '1/2'}]}"
      ]
     },
     "metadata": {},
     "execution_count": 10
    }
   ],
   "metadata": {}
  },
  {
   "cell_type": "code",
   "execution_count": 11,
   "source": [
    "x = consume_config(model)\n",
    "l = transform_model(x)"
   ],
   "outputs": [],
   "metadata": {}
  },
  {
   "cell_type": "code",
   "execution_count": 12,
   "source": [
    "from IPython.display import display, Math, Latex\n",
    "\n",
    "display(Math(l.kinetic_term()))"
   ],
   "outputs": [
    {
     "output_type": "display_data",
     "data": {
      "text/latex": [
       "$\\displaystyle i\\overline{\\psi}D_{\\mu}\\gamma^{\\mu}\\psi - \\frac{1}{4}A_{Y}{}^{\\mu\\nu}A_{Y}{}_{\\mu\\nu}$"
      ],
      "text/plain": [
       "<IPython.core.display.Math object>"
      ]
     },
     "metadata": {}
    }
   ],
   "metadata": {}
  },
  {
   "cell_type": "code",
   "execution_count": 1,
   "source": [
    "from sympy import *"
   ],
   "outputs": [],
   "metadata": {}
  },
  {
   "cell_type": "code",
   "execution_count": 9,
   "source": [
    "from sympy.physics.hep.gamma_matrices import LorentzIndex\n",
    "from sympy.tensor.tensor import *\n",
    "i = tensor_indices('mu', LorentzIndex)\n",
    "gammamatrix = TensorHead(\"gamma\", [LorentzIndex],\n",
    "                         TensorSymmetry.no_symmetry(1), comm=None)\n",
    "gammamatrix(i)"
   ],
   "outputs": [
    {
     "output_type": "execute_result",
     "data": {
      "text/latex": [
       "$\\displaystyle \\gamma{}^{\\mu}$"
      ],
      "text/plain": [
       "gamma(mu)"
      ]
     },
     "metadata": {},
     "execution_count": 9
    }
   ],
   "metadata": {}
  },
  {
   "cell_type": "code",
   "execution_count": null,
   "source": [],
   "outputs": [],
   "metadata": {}
  }
 ],
 "metadata": {
  "orig_nbformat": 4,
  "language_info": {
   "name": "python",
   "version": "3.8.11",
   "mimetype": "text/x-python",
   "codemirror_mode": {
    "name": "ipython",
    "version": 3
   },
   "pygments_lexer": "ipython3",
   "nbconvert_exporter": "python",
   "file_extension": ".py"
  },
  "kernelspec": {
   "name": "python3",
   "display_name": "Python 3.8.11 64-bit ('zoo': conda)"
  },
  "interpreter": {
   "hash": "6367c2bc8ca8316d5d9db7d33fcf68f1223e505b8ef4f47e9ae950d2574ff5b0"
  }
 },
 "nbformat": 4,
 "nbformat_minor": 2
}